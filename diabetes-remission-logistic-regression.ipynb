{
 "metadata": {
  "name": "",
  "signature": "sha256:99ee63c40e490db07eaaecf864f2a51651fd511a65c4282c4458f8d712d25407"
 },
 "nbformat": 3,
 "nbformat_minor": 0,
 "worksheets": [
  {
   "cells": [
    {
     "cell_type": "heading",
     "level": 1,
     "metadata": {},
     "source": [
      "Logistic Regression model to Predict Diabetes Remission using Apache Spark"
     ]
    },
    {
     "cell_type": "code",
     "collapsed": false,
     "input": [
      "from pyspark import SparkContext, SparkConf\n",
      "\n",
      "conf = SparkConf().setMaster(\"local[*]\").setAppName(\"Train_Diabetes_Remission\")\n",
      "sc   = SparkContext(conf=conf)\n",
      "\n",
      "print \"Running Spark Version %s\" % (sc.version)"
     ],
     "language": "python",
     "metadata": {},
     "outputs": [
      {
       "output_type": "stream",
       "stream": "stdout",
       "text": [
        "Running Spark Version 1.2.1\n"
       ]
      }
     ],
     "prompt_number": 1
    },
    {
     "cell_type": "heading",
     "level": 2,
     "metadata": {},
     "source": [
      "Load the UCI Diabetes Dataset with 100,000 records"
     ]
    },
    {
     "cell_type": "code",
     "collapsed": false,
     "input": [
      "import pandas as pd\n",
      "# https://archive.ics.uci.edu/ml/datasets/Diabetes\n",
      "path = \"/data/dataset_diabetes//\"\n",
      "diabdf = pd.read_csv(path+\"diabetic_data.csv\",nrows=100000)\n",
      "diabdf['labels'] = diabdf['readmitted'].map(lambda x: 0 if x == 'NO' else 1)\n",
      "diabdf.drop('readmitted', axis=1, inplace=True)\n",
      "diabdf.insert(0, 'readmitted_label', diabdf['labels']) # Insert the new lables at first position\n",
      "diabdf.drop('labels', axis=1, inplace=True)\n",
      "diabdf.drop('encounter_id', axis=1, inplace=True)\n",
      "diabdf.drop('patient_nbr', axis=1, inplace=True)\n",
      "numeric_diabdf = diabdf._get_numeric_data()\n",
      "numeric_diabdf.to_csv(path+\"diabetic_data_with_labels.csv\",header=False,index=False)\n",
      "numeric_diabdf.ix[:5,]"
     ],
     "language": "python",
     "metadata": {},
     "outputs": [
      {
       "html": [
        "<div style=\"max-height:1000px;max-width:1500px;overflow:auto;\">\n",
        "<table border=\"1\" class=\"dataframe\">\n",
        "  <thead>\n",
        "    <tr style=\"text-align: right;\">\n",
        "      <th></th>\n",
        "      <th>readmitted_label</th>\n",
        "      <th>admission_type_id</th>\n",
        "      <th>discharge_disposition_id</th>\n",
        "      <th>admission_source_id</th>\n",
        "      <th>time_in_hospital</th>\n",
        "      <th>num_lab_procedures</th>\n",
        "      <th>num_procedures</th>\n",
        "      <th>num_medications</th>\n",
        "      <th>number_outpatient</th>\n",
        "      <th>number_emergency</th>\n",
        "      <th>number_inpatient</th>\n",
        "      <th>number_diagnoses</th>\n",
        "    </tr>\n",
        "  </thead>\n",
        "  <tbody>\n",
        "    <tr>\n",
        "      <th>0</th>\n",
        "      <td> 0</td>\n",
        "      <td> 6</td>\n",
        "      <td> 25</td>\n",
        "      <td> 1</td>\n",
        "      <td> 1</td>\n",
        "      <td> 41</td>\n",
        "      <td> 0</td>\n",
        "      <td>  1</td>\n",
        "      <td> 0</td>\n",
        "      <td> 0</td>\n",
        "      <td> 0</td>\n",
        "      <td> 1</td>\n",
        "    </tr>\n",
        "    <tr>\n",
        "      <th>1</th>\n",
        "      <td> 1</td>\n",
        "      <td> 1</td>\n",
        "      <td>  1</td>\n",
        "      <td> 7</td>\n",
        "      <td> 3</td>\n",
        "      <td> 59</td>\n",
        "      <td> 0</td>\n",
        "      <td> 18</td>\n",
        "      <td> 0</td>\n",
        "      <td> 0</td>\n",
        "      <td> 0</td>\n",
        "      <td> 9</td>\n",
        "    </tr>\n",
        "    <tr>\n",
        "      <th>2</th>\n",
        "      <td> 0</td>\n",
        "      <td> 1</td>\n",
        "      <td>  1</td>\n",
        "      <td> 7</td>\n",
        "      <td> 2</td>\n",
        "      <td> 11</td>\n",
        "      <td> 5</td>\n",
        "      <td> 13</td>\n",
        "      <td> 2</td>\n",
        "      <td> 0</td>\n",
        "      <td> 1</td>\n",
        "      <td> 6</td>\n",
        "    </tr>\n",
        "    <tr>\n",
        "      <th>3</th>\n",
        "      <td> 0</td>\n",
        "      <td> 1</td>\n",
        "      <td>  1</td>\n",
        "      <td> 7</td>\n",
        "      <td> 2</td>\n",
        "      <td> 44</td>\n",
        "      <td> 1</td>\n",
        "      <td> 16</td>\n",
        "      <td> 0</td>\n",
        "      <td> 0</td>\n",
        "      <td> 0</td>\n",
        "      <td> 7</td>\n",
        "    </tr>\n",
        "    <tr>\n",
        "      <th>4</th>\n",
        "      <td> 0</td>\n",
        "      <td> 1</td>\n",
        "      <td>  1</td>\n",
        "      <td> 7</td>\n",
        "      <td> 1</td>\n",
        "      <td> 51</td>\n",
        "      <td> 0</td>\n",
        "      <td>  8</td>\n",
        "      <td> 0</td>\n",
        "      <td> 0</td>\n",
        "      <td> 0</td>\n",
        "      <td> 5</td>\n",
        "    </tr>\n",
        "    <tr>\n",
        "      <th>5</th>\n",
        "      <td> 1</td>\n",
        "      <td> 2</td>\n",
        "      <td>  1</td>\n",
        "      <td> 2</td>\n",
        "      <td> 3</td>\n",
        "      <td> 31</td>\n",
        "      <td> 6</td>\n",
        "      <td> 16</td>\n",
        "      <td> 0</td>\n",
        "      <td> 0</td>\n",
        "      <td> 0</td>\n",
        "      <td> 9</td>\n",
        "    </tr>\n",
        "  </tbody>\n",
        "</table>\n",
        "</div>"
       ],
       "metadata": {},
       "output_type": "pyout",
       "prompt_number": 70,
       "text": [
        "   readmitted_label  admission_type_id  discharge_disposition_id  \\\n",
        "0                 0                  6                        25   \n",
        "1                 1                  1                         1   \n",
        "2                 0                  1                         1   \n",
        "3                 0                  1                         1   \n",
        "4                 0                  1                         1   \n",
        "5                 1                  2                         1   \n",
        "\n",
        "   admission_source_id  time_in_hospital  num_lab_procedures  num_procedures  \\\n",
        "0                    1                 1                  41               0   \n",
        "1                    7                 3                  59               0   \n",
        "2                    7                 2                  11               5   \n",
        "3                    7                 2                  44               1   \n",
        "4                    7                 1                  51               0   \n",
        "5                    2                 3                  31               6   \n",
        "\n",
        "   num_medications  number_outpatient  number_emergency  number_inpatient  \\\n",
        "0                1                  0                 0                 0   \n",
        "1               18                  0                 0                 0   \n",
        "2               13                  2                 0                 1   \n",
        "3               16                  0                 0                 0   \n",
        "4                8                  0                 0                 0   \n",
        "5               16                  0                 0                 0   \n",
        "\n",
        "   number_diagnoses  \n",
        "0                 1  \n",
        "1                 9  \n",
        "2                 6  \n",
        "3                 7  \n",
        "4                 5  \n",
        "5                 9  "
       ]
      }
     ],
     "prompt_number": 70
    },
    {
     "cell_type": "code",
     "collapsed": false,
     "input": [
      "points = sc.textFile(path+'diabetic_data_with_labels.csv') #across 10 cpus\n",
      "points.take(5)"
     ],
     "language": "python",
     "metadata": {},
     "outputs": [
      {
       "metadata": {},
       "output_type": "pyout",
       "prompt_number": 71,
       "text": [
        "[u'0,6,25,1,1,41,0,1,0,0,0,1',\n",
        " u'1,1,1,7,3,59,0,18,0,0,0,9',\n",
        " u'0,1,1,7,2,11,5,13,2,0,1,6',\n",
        " u'0,1,1,7,2,44,1,16,0,0,0,7',\n",
        " u'0,1,1,7,1,51,0,8,0,0,0,5']"
       ]
      }
     ],
     "prompt_number": 71
    },
    {
     "cell_type": "heading",
     "level": 2,
     "metadata": {},
     "source": [
      "Convert each Row into Spark LabeledPoint data-type"
     ]
    },
    {
     "cell_type": "code",
     "collapsed": false,
     "input": [
      "from pyspark.mllib.regression import LabeledPoint\n",
      "from pyspark.mllib.classification import LogisticRegressionWithSGD\n",
      "\n",
      "def parsePoint(line):\n",
      "    \"\"\"\n",
      "    Parse a line of text into an MLlib LabeledPoint object.\n",
      "    \"\"\"\n",
      "    values = [float(s) for s in line.strip().split(',')]\n",
      "    if values[0] == -1: # Convert -1 labels to 0 for MLlib\n",
      "        values[0] = 0\n",
      "    return LabeledPoint(values[0], values[1:])\n",
      "\n",
      "parsed_data = points.map(parsePoint)\n",
      "\n",
      "print 'After parsing, number of training lines: %s' % parsed_data.count()\n",
      "parsed_data.take(5)"
     ],
     "language": "python",
     "metadata": {},
     "outputs": [
      {
       "output_type": "stream",
       "stream": "stdout",
       "text": [
        "After parsing, number of training lines: 100000\n"
       ]
      },
      {
       "metadata": {},
       "output_type": "pyout",
       "prompt_number": 72,
       "text": [
        "[LabeledPoint(0.0, [6.0,25.0,1.0,1.0,41.0,0.0,1.0,0.0,0.0,0.0,1.0]),\n",
        " LabeledPoint(1.0, [1.0,1.0,7.0,3.0,59.0,0.0,18.0,0.0,0.0,0.0,9.0]),\n",
        " LabeledPoint(0.0, [1.0,1.0,7.0,2.0,11.0,5.0,13.0,2.0,0.0,1.0,6.0]),\n",
        " LabeledPoint(0.0, [1.0,1.0,7.0,2.0,44.0,1.0,16.0,0.0,0.0,0.0,7.0]),\n",
        " LabeledPoint(0.0, [1.0,1.0,7.0,1.0,51.0,0.0,8.0,0.0,0.0,0.0,5.0])]"
       ]
      }
     ],
     "prompt_number": 72
    },
    {
     "cell_type": "heading",
     "level": 2,
     "metadata": {},
     "source": [
      "Function to calculate training error"
     ]
    },
    {
     "cell_type": "code",
     "collapsed": false,
     "input": [
      "def calc_training_error(parsed_train_data, log_reg_model, model_name):\n",
      "    labelsAndPreds = parsed_train_data.map(lambda p: (p.label, model.predict(p.features)))\n",
      "    trainErr = labelsAndPreds.filter(lambda (v, p): v != p).count() / float(parsed_train_data.count())\n",
      "    return \"Training Error of the model \" + str(model_name) + \" = \" + str(trainErr)"
     ],
     "language": "python",
     "metadata": {},
     "outputs": []
    },
    {
     "cell_type": "heading",
     "level": 2,
     "metadata": {},
     "source": [
      "Calculate Training Error with different Regularization Paramters"
     ]
    },
    {
     "cell_type": "code",
     "collapsed": false,
     "input": [
      "# all l-1 penalized models will be trained with an intercept\n",
      "reg_param = [0.1, 0.3, 1.0, 3.0, 10.0]\n",
      "for rp in reg_param:\n",
      "    model1_300 = LogisticRegressionWithSGD.train(parsed_data, iterations=300, regParam=rp, regType=\"l1\", intercept=True)\n",
      "    print calc_training_error(parsed_data, model1_300, \"model1_300_\" + str(rp))\n",
      "\n",
      "    model1_500 = LogisticRegressionWithSGD.train(parsed_data, iterations=500, regType=\"l1\", intercept=True)\n",
      "    print calc_training_error(parsed_data, model1_500, \"model1_500_\" + str(rp))\n"
     ],
     "language": "python",
     "metadata": {},
     "outputs": [
      {
       "output_type": "stream",
       "stream": "stdout",
       "text": [
        "Training Error of the model model1_300_0.1 = 0.52989\n",
        "Training Error of the model model1_500_0.1 = 0.52989"
       ]
      },
      {
       "output_type": "stream",
       "stream": "stdout",
       "text": [
        "\n",
        "Training Error of the model model1_300_0.3 = 0.52989"
       ]
      },
      {
       "output_type": "stream",
       "stream": "stdout",
       "text": [
        "\n",
        "Training Error of the model model1_500_0.3 = 0.52989"
       ]
      },
      {
       "output_type": "stream",
       "stream": "stdout",
       "text": [
        "\n",
        "Training Error of the model model1_300_1.0 = 0.52989"
       ]
      },
      {
       "output_type": "stream",
       "stream": "stdout",
       "text": [
        "\n",
        "Training Error of the model model1_500_1.0 = 0.52989"
       ]
      },
      {
       "output_type": "stream",
       "stream": "stdout",
       "text": [
        "\n",
        "Training Error of the model model1_300_3.0 = 0.52989"
       ]
      },
      {
       "output_type": "stream",
       "stream": "stdout",
       "text": [
        "\n",
        "Training Error of the model model1_500_3.0 = 0.52989"
       ]
      },
      {
       "output_type": "stream",
       "stream": "stdout",
       "text": [
        "\n",
        "Training Error of the model model1_300_10.0 = 0.52989"
       ]
      },
      {
       "output_type": "stream",
       "stream": "stdout",
       "text": [
        "\n",
        "Training Error of the model model1_500_10.0 = 0.52989"
       ]
      },
      {
       "output_type": "stream",
       "stream": "stdout",
       "text": [
        "\n"
       ]
      }
     ],
     "prompt_number": 74
    }
   ],
   "metadata": {}
  }
 ]
}
