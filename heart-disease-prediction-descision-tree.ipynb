{
 "metadata": {
  "name": "",
  "signature": "sha256:342097b975178e3f20fc642d03d85965eab8ade84a859d25d71a0600f62a2302"
 },
 "nbformat": 3,
 "nbformat_minor": 0,
 "worksheets": [
  {
   "cells": [
    {
     "cell_type": "heading",
     "level": 1,
     "metadata": {},
     "source": [
      "Heart Disease Prediction Models using Decision Tree with Classification and Regression in Apache Spark"
     ]
    },
    {
     "cell_type": "heading",
     "level": 2,
     "metadata": {},
     "source": [
      "Initialize Spark Context"
     ]
    },
    {
     "cell_type": "code",
     "collapsed": false,
     "input": [
      "import sys\n",
      "sys.path.insert(0, '/Users/sudhir_chowbina/bigdata/spark/spark-1.2.1/python/')\n",
      "from pyspark import SparkContext, SparkConf\n",
      "\n",
      "conf = SparkConf().setMaster(\"local[*]\").setAppName(\"heart-disease-prediction-descision-tree\")\n",
      "sc   = SparkContext(conf=conf)\n",
      "\n",
      "print \"Running Spark Version %s\" % (sc.version)"
     ],
     "language": "python",
     "metadata": {},
     "outputs": [
      {
       "output_type": "stream",
       "stream": "stdout",
       "text": [
        "Running Spark Version 1.2.1\n"
       ]
      }
     ],
     "prompt_number": 1
    },
    {
     "cell_type": "heading",
     "level": 2,
     "metadata": {},
     "source": [
      "Read the UCI Heart Disease [Dataset](https://archive.ics.uci.edu/ml/datasets/Heart+Disease) and Clean-up"
     ]
    },
    {
     "cell_type": "code",
     "collapsed": false,
     "input": [
      "import pandas as pd\n",
      "import numpy as np\n",
      "\n",
      "# https://archive.ics.uci.edu/ml/machine-learning-databases/heart-disease/processed.cleveland.data\n",
      "path = \"/Users/sudhir_chowbina/bigdata/spark/spark_projects/spark-github-examples//\"\n",
      "heartdf = pd.read_csv(path+\"heart-disease-cleveland.csv\",header=None)\n",
      "\n",
      "print \"Original Dataset (Rows:Colums): \"\n",
      "print heartdf.shape\n",
      "print \n",
      "\n",
      "print \"Categories of Diagnosis of heart disease (angiographic disease status) that we are predicting\"\n",
      "print \"-- Value 0: < 50% diameter narrowing\"\n",
      "print \"-- Value 1: > 50% diameter narrowing \"\n",
      "print heartdf.ix[:,13].unique() #Column containing the Diagnosis of heart disease\n",
      "\n",
      "newheartdf = pd.concat([heartdf.ix[:,13], heartdf.ix[:,0:12]],axis=1, join_axes=[heartdf.index])\n",
      "newheartdf.replace('?', np.nan, inplace=True) # Replace ? values\n",
      "\n",
      "print\n",
      "print \"After dropping rows with anyone empty value (Rows:Columns): \"\n",
      "ndf2 = newheartdf.dropna()\n",
      "ndf2.to_csv(path+\"heart-disease-cleaveland.txt\",sep=\",\",index=False,header=None,na_rep=np.nan)\n",
      "print ndf2.shape\n",
      "print\n",
      "ndf2.ix[:5,:]"
     ],
     "language": "python",
     "metadata": {},
     "outputs": [
      {
       "output_type": "stream",
       "stream": "stdout",
       "text": [
        "Original Dataset (Rows:Colums): \n",
        "(303, 14)\n",
        "\n",
        "Categories of Diagnosis of heart disease (angiographic disease status) that we are predicting\n",
        "-- Value 0: < 50% diameter narrowing\n",
        "-- Value 1: > 50% diameter narrowing \n",
        "[0 2 1 3 4]\n",
        "\n",
        "After dropping rows with anyone empty value (Rows:Columns): \n",
        "(297, 14)\n",
        "\n"
       ]
      },
      {
       "html": [
        "<div style=\"max-height:1000px;max-width:1500px;overflow:auto;\">\n",
        "<table border=\"1\" class=\"dataframe\">\n",
        "  <thead>\n",
        "    <tr style=\"text-align: right;\">\n",
        "      <th></th>\n",
        "      <th>13</th>\n",
        "      <th>0</th>\n",
        "      <th>1</th>\n",
        "      <th>2</th>\n",
        "      <th>3</th>\n",
        "      <th>4</th>\n",
        "      <th>5</th>\n",
        "      <th>6</th>\n",
        "      <th>7</th>\n",
        "      <th>8</th>\n",
        "      <th>9</th>\n",
        "      <th>10</th>\n",
        "      <th>11</th>\n",
        "      <th>12</th>\n",
        "    </tr>\n",
        "  </thead>\n",
        "  <tbody>\n",
        "    <tr>\n",
        "      <th>0</th>\n",
        "      <td> 0</td>\n",
        "      <td> 63</td>\n",
        "      <td> 1</td>\n",
        "      <td> 1</td>\n",
        "      <td> 145</td>\n",
        "      <td> 233</td>\n",
        "      <td> 1</td>\n",
        "      <td> 2</td>\n",
        "      <td> 150</td>\n",
        "      <td> 0</td>\n",
        "      <td> 2.3</td>\n",
        "      <td> 3</td>\n",
        "      <td> 0.0</td>\n",
        "      <td> 6.0</td>\n",
        "    </tr>\n",
        "    <tr>\n",
        "      <th>1</th>\n",
        "      <td> 2</td>\n",
        "      <td> 67</td>\n",
        "      <td> 1</td>\n",
        "      <td> 4</td>\n",
        "      <td> 160</td>\n",
        "      <td> 286</td>\n",
        "      <td> 0</td>\n",
        "      <td> 2</td>\n",
        "      <td> 108</td>\n",
        "      <td> 1</td>\n",
        "      <td> 1.5</td>\n",
        "      <td> 2</td>\n",
        "      <td> 3.0</td>\n",
        "      <td> 3.0</td>\n",
        "    </tr>\n",
        "    <tr>\n",
        "      <th>2</th>\n",
        "      <td> 1</td>\n",
        "      <td> 67</td>\n",
        "      <td> 1</td>\n",
        "      <td> 4</td>\n",
        "      <td> 120</td>\n",
        "      <td> 229</td>\n",
        "      <td> 0</td>\n",
        "      <td> 2</td>\n",
        "      <td> 129</td>\n",
        "      <td> 1</td>\n",
        "      <td> 2.6</td>\n",
        "      <td> 2</td>\n",
        "      <td> 2.0</td>\n",
        "      <td> 7.0</td>\n",
        "    </tr>\n",
        "    <tr>\n",
        "      <th>3</th>\n",
        "      <td> 0</td>\n",
        "      <td> 37</td>\n",
        "      <td> 1</td>\n",
        "      <td> 3</td>\n",
        "      <td> 130</td>\n",
        "      <td> 250</td>\n",
        "      <td> 0</td>\n",
        "      <td> 0</td>\n",
        "      <td> 187</td>\n",
        "      <td> 0</td>\n",
        "      <td> 3.5</td>\n",
        "      <td> 3</td>\n",
        "      <td> 0.0</td>\n",
        "      <td> 3.0</td>\n",
        "    </tr>\n",
        "    <tr>\n",
        "      <th>4</th>\n",
        "      <td> 0</td>\n",
        "      <td> 41</td>\n",
        "      <td> 0</td>\n",
        "      <td> 2</td>\n",
        "      <td> 130</td>\n",
        "      <td> 204</td>\n",
        "      <td> 0</td>\n",
        "      <td> 2</td>\n",
        "      <td> 172</td>\n",
        "      <td> 0</td>\n",
        "      <td> 1.4</td>\n",
        "      <td> 1</td>\n",
        "      <td> 0.0</td>\n",
        "      <td> 3.0</td>\n",
        "    </tr>\n",
        "    <tr>\n",
        "      <th>5</th>\n",
        "      <td> 0</td>\n",
        "      <td> 56</td>\n",
        "      <td> 1</td>\n",
        "      <td> 2</td>\n",
        "      <td> 120</td>\n",
        "      <td> 236</td>\n",
        "      <td> 0</td>\n",
        "      <td> 0</td>\n",
        "      <td> 178</td>\n",
        "      <td> 0</td>\n",
        "      <td> 0.8</td>\n",
        "      <td> 1</td>\n",
        "      <td> 0.0</td>\n",
        "      <td> 3.0</td>\n",
        "    </tr>\n",
        "  </tbody>\n",
        "</table>\n",
        "</div>"
       ],
       "metadata": {},
       "output_type": "pyout",
       "prompt_number": 120,
       "text": [
        "   13  0   1   2    3    4   5   6    7   8    9   10   11   12\n",
        "0   0  63   1   1  145  233   1   2  150   0  2.3   3  0.0  6.0\n",
        "1   2  67   1   4  160  286   0   2  108   1  1.5   2  3.0  3.0\n",
        "2   1  67   1   4  120  229   0   2  129   1  2.6   2  2.0  7.0\n",
        "3   0  37   1   3  130  250   0   0  187   0  3.5   3  0.0  3.0\n",
        "4   0  41   0   2  130  204   0   2  172   0  1.4   1  0.0  3.0\n",
        "5   0  56   1   2  120  236   0   0  178   0  0.8   1  0.0  3.0"
       ]
      }
     ],
     "prompt_number": 120
    },
    {
     "cell_type": "heading",
     "level": 2,
     "metadata": {},
     "source": [
      "Create a Labeled point which is a local vector, associated with a label/response"
     ]
    },
    {
     "cell_type": "code",
     "collapsed": false,
     "input": [
      "from pyspark.mllib.regression import LabeledPoint\n",
      "\n",
      "points = sc.textFile(path+'heart-disease-cleaveland.txt') \n",
      "\n",
      "def parsePoint(line):\n",
      "    \"\"\"\n",
      "    Parse a line of text into an MLlib LabeledPoint object.\n",
      "    \"\"\"\n",
      "    values = [float(s) for s in line.strip().split(',')]\n",
      "    if values[0] == -1: # Convert -1 labels to 0 for MLlib\n",
      "        values[0] = 0\n",
      "    elif values[0] > 0:\n",
      "        values[0] = 1\n",
      "    return LabeledPoint(values[0], values[1:])\n",
      "\n",
      "parsed_data = points.map(parsePoint)\n",
      "\n",
      "print 'After parsing, number of training lines: %s' % parsed_data.count()\n",
      "\n",
      "parsed_data.take(5)"
     ],
     "language": "python",
     "metadata": {},
     "outputs": [
      {
       "output_type": "stream",
       "stream": "stdout",
       "text": [
        "After parsing, number of training lines: 297\n"
       ]
      },
      {
       "metadata": {},
       "output_type": "pyout",
       "prompt_number": 123,
       "text": [
        "[LabeledPoint(0.0, [63.0,1.0,1.0,145.0,233.0,1.0,2.0,150.0,0.0,2.3,3.0,0.0,6.0]),\n",
        " LabeledPoint(1.0, [67.0,1.0,4.0,160.0,286.0,0.0,2.0,108.0,1.0,1.5,2.0,3.0,3.0]),\n",
        " LabeledPoint(1.0, [67.0,1.0,4.0,120.0,229.0,0.0,2.0,129.0,1.0,2.6,2.0,2.0,7.0]),\n",
        " LabeledPoint(0.0, [37.0,1.0,3.0,130.0,250.0,0.0,0.0,187.0,0.0,3.5,3.0,0.0,3.0]),\n",
        " LabeledPoint(0.0, [41.0,0.0,2.0,130.0,204.0,0.0,2.0,172.0,0.0,1.4,1.0,0.0,3.0])]"
       ]
      }
     ],
     "prompt_number": 123
    },
    {
     "cell_type": "heading",
     "level": 2,
     "metadata": {},
     "source": [
      "Perform Classification using a Decision Tree"
     ]
    },
    {
     "cell_type": "markdown",
     "metadata": {},
     "source": [
      "Train a decision tree model with Gini impurity as an impurity measure and a maximum tree depth of 3."
     ]
    },
    {
     "cell_type": "code",
     "collapsed": false,
     "input": [
      "from pyspark.mllib.tree import DecisionTree\n",
      "# Split the data into training and test sets (30% held out for testing)\n",
      "(trainingData, testData) = parsed_data.randomSplit([0.7, 0.3])\n",
      "# Train a DecisionTree model.\n",
      "#  Empty categoricalFeaturesInfo indicates all features are continuous.\n",
      "model = DecisionTree.trainClassifier(trainingData, numClasses=5, categoricalFeaturesInfo={}, impurity='gini', maxDepth=3, maxBins=32)"
     ],
     "language": "python",
     "metadata": {},
     "outputs": [],
     "prompt_number": 126
    },
    {
     "cell_type": "heading",
     "level": 3,
     "metadata": {},
     "source": [
      "Evaluate model on test instances and compute test error"
     ]
    },
    {
     "cell_type": "code",
     "collapsed": false,
     "input": [
      "predictions = model.predict(testData.map(lambda x: x.features))\n",
      "labelsAndPredictions = testData.map(lambda lp: lp.label).zip(predictions)\n",
      "testErr = labelsAndPredictions.filter(lambda (v, p): v != p).count() / float(testData.count())\n",
      "print('Test Error = ' + str(testErr))\n",
      "print('Learned classification tree model:')\n",
      "print(model.toDebugString())"
     ],
     "language": "python",
     "metadata": {},
     "outputs": [
      {
       "output_type": "stream",
       "stream": "stdout",
       "text": [
        "Test Error = 0.188118811881\n",
        "Learned classification tree model:\n",
        "DecisionTreeModel classifier of depth 3 with 15 nodes\n",
        "  If (feature 12 <= 3.0)\n",
        "   If (feature 11 <= 0.0)\n",
        "    If (feature 0 <= 57.0)\n",
        "     Predict: 0.0\n",
        "    Else (feature 0 > 57.0)\n",
        "     Predict: 0.0\n",
        "   Else (feature 11 > 0.0)\n",
        "    If (feature 1 <= 0.0)\n",
        "     Predict: 0.0\n",
        "    Else (feature 1 > 0.0)\n",
        "     Predict: 1.0\n",
        "  Else (feature 12 > 3.0)\n",
        "   If (feature 11 <= 0.0)\n",
        "    If (feature 8 <= 0.0)\n",
        "     Predict: 0.0\n",
        "    Else (feature 8 > 0.0)\n",
        "     Predict: 1.0\n",
        "   Else (feature 11 > 0.0)\n",
        "    If (feature 3 <= 104.0)\n",
        "     Predict: 0.0\n",
        "    Else (feature 3 > 104.0)\n",
        "     Predict: 1.0\n",
        "\n"
       ]
      }
     ],
     "prompt_number": 127
    },
    {
     "cell_type": "heading",
     "level": 2,
     "metadata": {},
     "source": [
      "Perform Regression using a Decision Tree"
     ]
    },
    {
     "cell_type": "markdown",
     "metadata": {},
     "source": [
      "Train a decision tree regression model with variance as an impurity measure and a maximum tree depth of 5"
     ]
    },
    {
     "cell_type": "code",
     "collapsed": false,
     "input": [
      "model = DecisionTree.trainRegressor(trainingData, categoricalFeaturesInfo={}, impurity='variance', maxDepth=3, maxBins=32)\n",
      "\n",
      "# Evaluate model on test instances and compute test error\n",
      "predictions = model.predict(testData.map(lambda x: x.features))\n",
      "labelsAndPredictions = testData.map(lambda lp: lp.label).zip(predictions)\n",
      "testMSE = labelsAndPredictions.map(lambda (v, p): (v - p) * (v - p)).sum() / float(testData.count())\n",
      "print('Test Mean Squared Error = ' + str(testMSE))\n",
      "print('Learned regression tree model:')\n",
      "print(model.toDebugString())"
     ],
     "language": "python",
     "metadata": {},
     "outputs": [
      {
       "output_type": "stream",
       "stream": "stdout",
       "text": [
        "Test Mean Squared Error = 0.15066689117\n",
        "Learned regression tree model:\n",
        "DecisionTreeModel regressor of depth 3 with 15 nodes\n",
        "  If (feature 12 <= 3.0)\n",
        "   If (feature 11 <= 0.0)\n",
        "    If (feature 0 <= 57.0)\n",
        "     Predict: 0.019230769230769232\n",
        "    Else (feature 0 > 57.0)\n",
        "     Predict: 0.3157894736842105\n",
        "   Else (feature 11 > 0.0)\n",
        "    If (feature 1 <= 0.0)\n",
        "     Predict: 0.23529411764705882\n",
        "    Else (feature 1 > 0.0)\n",
        "     Predict: 0.8\n",
        "  Else (feature 12 > 3.0)\n",
        "   If (feature 11 <= 0.0)\n",
        "    If (feature 8 <= 0.0)\n",
        "     Predict: 0.3333333333333333\n",
        "    Else (feature 8 > 0.0)\n",
        "     Predict: 0.782608695652174\n",
        "   Else (feature 11 > 0.0)\n",
        "    If (feature 3 <= 104.0)\n",
        "     Predict: 0.0\n",
        "    Else (feature 3 > 104.0)\n",
        "     Predict: 0.9555555555555556\n",
        "\n"
       ]
      }
     ],
     "prompt_number": 129
    },
    {
     "cell_type": "code",
     "collapsed": false,
     "input": [],
     "language": "python",
     "metadata": {},
     "outputs": []
    }
   ],
   "metadata": {}
  }
 ]
}
